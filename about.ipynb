{
  "cells": [
    {
      "cell_type": "raw",
      "metadata": {},
      "source": [
        "---\n",
        "title: \"When are you hopping on the caravan?\"\n",
        "---"
      ],
      "id": "15d5f4d6"
    },
    {
      "cell_type": "markdown",
      "metadata": {},
      "source": [
        "```{html}\n",
        "<button type=\"button\" class=\"btn btn-primary btn-lg\">Large button</button>\n",
        "```"
      ],
      "id": "4e65f7e7"
    }
  ],
  "metadata": {
    "kernelspec": {
      "name": "python3",
      "language": "python",
      "display_name": "Python 3 (ipykernel)"
    }
  },
  "nbformat": 4,
  "nbformat_minor": 5
}